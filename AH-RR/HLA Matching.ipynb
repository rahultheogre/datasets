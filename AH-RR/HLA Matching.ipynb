{
 "cells": [
  {
   "cell_type": "code",
   "execution_count": 1,
   "id": "c947586d",
   "metadata": {},
   "outputs": [],
   "source": [
    "import pandas as pd\n",
    "import numpy as np"
   ]
  },
  {
   "cell_type": "code",
   "execution_count": 2,
   "id": "64e87381",
   "metadata": {},
   "outputs": [],
   "source": [
    "donor_df = pd.read_csv('Donor HLA Typing.csv',dtype='str')"
   ]
  },
  {
   "cell_type": "code",
   "execution_count": 3,
   "id": "15d833f5",
   "metadata": {
    "scrolled": false
   },
   "outputs": [
    {
     "data": {
      "text/html": [
       "<div>\n",
       "<style scoped>\n",
       "    .dataframe tbody tr th:only-of-type {\n",
       "        vertical-align: middle;\n",
       "    }\n",
       "\n",
       "    .dataframe tbody tr th {\n",
       "        vertical-align: top;\n",
       "    }\n",
       "\n",
       "    .dataframe thead th {\n",
       "        text-align: right;\n",
       "    }\n",
       "</style>\n",
       "<table border=\"1\" class=\"dataframe\">\n",
       "  <thead>\n",
       "    <tr style=\"text-align: right;\">\n",
       "      <th></th>\n",
       "      <th>A</th>\n",
       "      <th>B</th>\n",
       "      <th>C</th>\n",
       "      <th>DRB1</th>\n",
       "      <th>DQB1</th>\n",
       "      <th>DPB1</th>\n",
       "    </tr>\n",
       "  </thead>\n",
       "  <tbody>\n",
       "    <tr>\n",
       "      <th>0</th>\n",
       "      <td>32:01:01</td>\n",
       "      <td>35:03:01</td>\n",
       "      <td>06:02:01</td>\n",
       "      <td>11:01:01</td>\n",
       "      <td>03:01:01</td>\n",
       "      <td>02:01:02</td>\n",
       "    </tr>\n",
       "    <tr>\n",
       "      <th>1</th>\n",
       "      <td>68:01:02</td>\n",
       "      <td>57:01:01</td>\n",
       "      <td>12:03:01</td>\n",
       "      <td>13:01:01</td>\n",
       "      <td>06:03:01</td>\n",
       "      <td>04:01:01</td>\n",
       "    </tr>\n",
       "  </tbody>\n",
       "</table>\n",
       "</div>"
      ],
      "text/plain": [
       "          A         B         C      DRB1      DQB1      DPB1\n",
       "0  32:01:01  35:03:01  06:02:01  11:01:01  03:01:01  02:01:02\n",
       "1  68:01:02  57:01:01  12:03:01  13:01:01  06:03:01  04:01:01"
      ]
     },
     "execution_count": 3,
     "metadata": {},
     "output_type": "execute_result"
    }
   ],
   "source": [
    "donor_df"
   ]
  },
  {
   "cell_type": "code",
   "execution_count": 4,
   "id": "2304ea8b",
   "metadata": {},
   "outputs": [],
   "source": [
    "donorABC = set()"
   ]
  },
  {
   "cell_type": "code",
   "execution_count": 5,
   "id": "7d25fe2d",
   "metadata": {},
   "outputs": [
    {
     "data": {
      "text/plain": [
       "['A', 'B', 'C', 'DRB1', 'DQB1', 'DPB1']"
      ]
     },
     "execution_count": 5,
     "metadata": {},
     "output_type": "execute_result"
    }
   ],
   "source": [
    "column_names = donor_df.columns.values.tolist()\n",
    "column_names"
   ]
  },
  {
   "cell_type": "code",
   "execution_count": 6,
   "id": "3cc36621",
   "metadata": {},
   "outputs": [
    {
     "name": "stdout",
     "output_type": "stream",
     "text": [
      "32:01:01\n"
     ]
    }
   ],
   "source": [
    "print(donor_df['A'][0])"
   ]
  },
  {
   "cell_type": "code",
   "execution_count": 7,
   "id": "36c1df8d",
   "metadata": {},
   "outputs": [],
   "source": [
    "def formatHLA(data,column):\n",
    "    return column + '*' + data[0:5]"
   ]
  },
  {
   "cell_type": "code",
   "execution_count": 8,
   "id": "b7b04638",
   "metadata": {
    "scrolled": true
   },
   "outputs": [
    {
     "data": {
      "text/plain": [
       "{'A*32:01',\n",
       " 'A*68:01',\n",
       " 'B*35:03',\n",
       " 'B*57:01',\n",
       " 'C*06:02',\n",
       " 'C*12:03',\n",
       " 'DPB1*02:01',\n",
       " 'DPB1*04:01',\n",
       " 'DQB1*03:01',\n",
       " 'DQB1*06:03',\n",
       " 'DRB1*11:01',\n",
       " 'DRB1*13:01'}"
      ]
     },
     "execution_count": 8,
     "metadata": {},
     "output_type": "execute_result"
    }
   ],
   "source": [
    "for column in column_names:\n",
    "    for data in donor_df[column]:\n",
    "        donorABC.add(formatHLA(data,column))\n",
    "donorABC"
   ]
  },
  {
   "cell_type": "code",
   "execution_count": 9,
   "id": "52d8f972",
   "metadata": {
    "scrolled": true
   },
   "outputs": [
    {
     "data": {
      "text/html": [
       "<div>\n",
       "<style scoped>\n",
       "    .dataframe tbody tr th:only-of-type {\n",
       "        vertical-align: middle;\n",
       "    }\n",
       "\n",
       "    .dataframe tbody tr th {\n",
       "        vertical-align: top;\n",
       "    }\n",
       "\n",
       "    .dataframe thead th {\n",
       "        text-align: right;\n",
       "    }\n",
       "</style>\n",
       "<table border=\"1\" class=\"dataframe\">\n",
       "  <thead>\n",
       "    <tr style=\"text-align: right;\">\n",
       "      <th></th>\n",
       "      <th>0</th>\n",
       "      <th>1</th>\n",
       "    </tr>\n",
       "  </thead>\n",
       "  <tbody>\n",
       "    <tr>\n",
       "      <th>0</th>\n",
       "      <td>Antibodies detected against HLA Class I antige...</td>\n",
       "      <td>NaN</td>\n",
       "    </tr>\n",
       "    <tr>\n",
       "      <th>1</th>\n",
       "      <td>Allele Specificity</td>\n",
       "      <td>MFI</td>\n",
       "    </tr>\n",
       "    <tr>\n",
       "      <th>2</th>\n",
       "      <td>B*48:01</td>\n",
       "      <td>11,421</td>\n",
       "    </tr>\n",
       "    <tr>\n",
       "      <th>3</th>\n",
       "      <td>C*03:03</td>\n",
       "      <td>9,079</td>\n",
       "    </tr>\n",
       "    <tr>\n",
       "      <th>4</th>\n",
       "      <td>B*52:01</td>\n",
       "      <td>8,983</td>\n",
       "    </tr>\n",
       "    <tr>\n",
       "      <th>5</th>\n",
       "      <td>C*03:04</td>\n",
       "      <td>7,360</td>\n",
       "    </tr>\n",
       "    <tr>\n",
       "      <th>6</th>\n",
       "      <td>NaN</td>\n",
       "      <td>NaN</td>\n",
       "    </tr>\n",
       "    <tr>\n",
       "      <th>7</th>\n",
       "      <td>Antibodies detected against HLA Class I antige...</td>\n",
       "      <td>NaN</td>\n",
       "    </tr>\n",
       "    <tr>\n",
       "      <th>8</th>\n",
       "      <td>Allele Specificity</td>\n",
       "      <td>MFI</td>\n",
       "    </tr>\n",
       "    <tr>\n",
       "      <th>9</th>\n",
       "      <td>B*73:01</td>\n",
       "      <td>889</td>\n",
       "    </tr>\n",
       "    <tr>\n",
       "      <th>10</th>\n",
       "      <td>B*15:01</td>\n",
       "      <td>873</td>\n",
       "    </tr>\n",
       "    <tr>\n",
       "      <th>11</th>\n",
       "      <td>C*15:02</td>\n",
       "      <td>747</td>\n",
       "    </tr>\n",
       "    <tr>\n",
       "      <th>12</th>\n",
       "      <td>C*06:02</td>\n",
       "      <td>144</td>\n",
       "    </tr>\n",
       "    <tr>\n",
       "      <th>13</th>\n",
       "      <td>C*05:01</td>\n",
       "      <td>127</td>\n",
       "    </tr>\n",
       "    <tr>\n",
       "      <th>14</th>\n",
       "      <td>A*11:02</td>\n",
       "      <td>454</td>\n",
       "    </tr>\n",
       "    <tr>\n",
       "      <th>15</th>\n",
       "      <td>B*51:02</td>\n",
       "      <td>357</td>\n",
       "    </tr>\n",
       "    <tr>\n",
       "      <th>16</th>\n",
       "      <td>A*33:03</td>\n",
       "      <td>94</td>\n",
       "    </tr>\n",
       "    <tr>\n",
       "      <th>17</th>\n",
       "      <td>A*43:01</td>\n",
       "      <td>98</td>\n",
       "    </tr>\n",
       "    <tr>\n",
       "      <th>18</th>\n",
       "      <td>A*32:01</td>\n",
       "      <td>91</td>\n",
       "    </tr>\n",
       "    <tr>\n",
       "      <th>19</th>\n",
       "      <td>B*15:16</td>\n",
       "      <td>49</td>\n",
       "    </tr>\n",
       "    <tr>\n",
       "      <th>20</th>\n",
       "      <td>A*68:01</td>\n",
       "      <td>39</td>\n",
       "    </tr>\n",
       "    <tr>\n",
       "      <th>21</th>\n",
       "      <td>A*80:01</td>\n",
       "      <td>Not Detected</td>\n",
       "    </tr>\n",
       "    <tr>\n",
       "      <th>22</th>\n",
       "      <td>A*11:01</td>\n",
       "      <td>Not Detected</td>\n",
       "    </tr>\n",
       "    <tr>\n",
       "      <th>23</th>\n",
       "      <td>B*57:01</td>\n",
       "      <td>Not Detected</td>\n",
       "    </tr>\n",
       "  </tbody>\n",
       "</table>\n",
       "</div>"
      ],
      "text/plain": [
       "                                                    0             1\n",
       "0   Antibodies detected against HLA Class I antige...           NaN\n",
       "1                                 Allele Specificity            MFI\n",
       "2                                             B*48:01        11,421\n",
       "3                                             C*03:03         9,079\n",
       "4                                             B*52:01         8,983\n",
       "5                                             C*03:04         7,360\n",
       "6                                                 NaN           NaN\n",
       "7   Antibodies detected against HLA Class I antige...           NaN\n",
       "8                                 Allele Specificity            MFI\n",
       "9                                             B*73:01           889\n",
       "10                                            B*15:01           873\n",
       "11                                            C*15:02           747\n",
       "12                                            C*06:02           144\n",
       "13                                            C*05:01           127\n",
       "14                                            A*11:02           454\n",
       "15                                            B*51:02           357\n",
       "16                                            A*33:03            94\n",
       "17                                            A*43:01            98\n",
       "18                                            A*32:01            91\n",
       "19                                            B*15:16            49\n",
       "20                                            A*68:01            39\n",
       "21                                            A*80:01  Not Detected\n",
       "22                                            A*11:01  Not Detected\n",
       "23                                            B*57:01  Not Detected"
      ]
     },
     "execution_count": 9,
     "metadata": {},
     "output_type": "execute_result"
    }
   ],
   "source": [
    "recipient_SAB1 = pd.read_csv('Recipient Class 1 SAB.csv',header=None)\n",
    "recipient_SAB1"
   ]
  },
  {
   "cell_type": "code",
   "execution_count": 11,
   "id": "9c88744e",
   "metadata": {},
   "outputs": [],
   "source": [
    "class HLA_MFI_pair:\n",
    "    def __init__(self,HLA,MFI):\n",
    "        self.HLA = HLA\n",
    "        self.MFA = MFA"
   ]
  },
  {
   "cell_type": "code",
   "execution_count": 12,
   "id": "f0ed2a39",
   "metadata": {},
   "outputs": [],
   "source": [
    "result_list = []"
   ]
  },
  {
   "cell_type": "code",
   "execution_count": 15,
   "id": "5a06fd46",
   "metadata": {},
   "outputs": [
    {
     "name": "stdout",
     "output_type": "stream",
     "text": [
      "C*06:02\n",
      "A*32:01\n",
      "A*68:01\n",
      "B*57:01\n"
     ]
    }
   ],
   "source": [
    "for row in range(0,len(recipient_SAB1[1])):\n",
    "    allele =  recipient_SAB1[0][row]\n",
    "    MFI = recipient_SAB1[1][row]\n",
    "    if allele in donorABC:\n",
    "        print(allele)\n",
    "        #result_list.append(HLA_MFI_pair(allele,MFI))"
   ]
  },
  {
   "cell_type": "code",
   "execution_count": 14,
   "id": "9228cf7f",
   "metadata": {},
   "outputs": [
    {
     "name": "stdout",
     "output_type": "stream",
     "text": [
      "[<__main__.HLA_MFI_pair object at 0x0000012FCA761280>, <__main__.HLA_MFI_pair object at 0x0000012FCA6EAF40>, <__main__.HLA_MFI_pair object at 0x0000012FCA6EAA60>, <__main__.HLA_MFI_pair object at 0x0000012FC83E8C40>]\n"
     ]
    }
   ],
   "source": [
    "print(result_list)"
   ]
  }
 ],
 "metadata": {
  "kernelspec": {
   "display_name": "Python 3 (ipykernel)",
   "language": "python",
   "name": "python3"
  },
  "language_info": {
   "codemirror_mode": {
    "name": "ipython",
    "version": 3
   },
   "file_extension": ".py",
   "mimetype": "text/x-python",
   "name": "python",
   "nbconvert_exporter": "python",
   "pygments_lexer": "ipython3",
   "version": "3.9.7"
  }
 },
 "nbformat": 4,
 "nbformat_minor": 5
}
