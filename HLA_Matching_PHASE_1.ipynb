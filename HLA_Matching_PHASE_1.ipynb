{
  "cells": [
    {
      "cell_type": "markdown",
      "metadata": {
        "id": "view-in-github",
        "colab_type": "text"
      },
      "source": [
        "<a href=\"https://colab.research.google.com/github/rahultheogre/datasets/blob/main/HLA_Matching_PHASE_1.ipynb\" target=\"_parent\"><img src=\"https://colab.research.google.com/assets/colab-badge.svg\" alt=\"Open In Colab\"/></a>"
      ]
    },
    {
      "cell_type": "code",
      "execution_count": 2,
      "id": "c947586d",
      "metadata": {
        "id": "c947586d"
      },
      "outputs": [],
      "source": [
        "import pandas as pd\n",
        "import numpy as np"
      ]
    },
    {
      "cell_type": "code",
      "execution_count": 3,
      "id": "64e87381",
      "metadata": {
        "id": "64e87381"
      },
      "outputs": [],
      "source": [
        "donor_df = pd.read_csv('https://raw.githubusercontent.com/rahultheogre/datasets/main/AH-RR/Donor%20HLA%20Typing.csv')"
      ]
    },
    {
      "cell_type": "code",
      "source": [
        "donor_df"
      ],
      "metadata": {
        "colab": {
          "base_uri": "https://localhost:8080/",
          "height": 112
        },
        "id": "u9cWRbtkCd3r",
        "outputId": "680bc297-ca09-4522-b3be-9108419a6d22"
      },
      "id": "u9cWRbtkCd3r",
      "execution_count": 53,
      "outputs": [
        {
          "output_type": "execute_result",
          "data": {
            "text/plain": [
              "          A         B         C      DRB1      DQB1      DPB1\n",
              "0  32:01:01  35:03:01  06:02:01  11:01:01  03:01:01  02:01:02\n",
              "1  68:01:02  57:01:01  12:03:01  13:01:01  06:03:01  04:01:01"
            ],
            "text/html": [
              "\n",
              "  <div id=\"df-7294b4d5-87d7-4a35-a201-256805273ae1\">\n",
              "    <div class=\"colab-df-container\">\n",
              "      <div>\n",
              "<style scoped>\n",
              "    .dataframe tbody tr th:only-of-type {\n",
              "        vertical-align: middle;\n",
              "    }\n",
              "\n",
              "    .dataframe tbody tr th {\n",
              "        vertical-align: top;\n",
              "    }\n",
              "\n",
              "    .dataframe thead th {\n",
              "        text-align: right;\n",
              "    }\n",
              "</style>\n",
              "<table border=\"1\" class=\"dataframe\">\n",
              "  <thead>\n",
              "    <tr style=\"text-align: right;\">\n",
              "      <th></th>\n",
              "      <th>A</th>\n",
              "      <th>B</th>\n",
              "      <th>C</th>\n",
              "      <th>DRB1</th>\n",
              "      <th>DQB1</th>\n",
              "      <th>DPB1</th>\n",
              "    </tr>\n",
              "  </thead>\n",
              "  <tbody>\n",
              "    <tr>\n",
              "      <th>0</th>\n",
              "      <td>32:01:01</td>\n",
              "      <td>35:03:01</td>\n",
              "      <td>06:02:01</td>\n",
              "      <td>11:01:01</td>\n",
              "      <td>03:01:01</td>\n",
              "      <td>02:01:02</td>\n",
              "    </tr>\n",
              "    <tr>\n",
              "      <th>1</th>\n",
              "      <td>68:01:02</td>\n",
              "      <td>57:01:01</td>\n",
              "      <td>12:03:01</td>\n",
              "      <td>13:01:01</td>\n",
              "      <td>06:03:01</td>\n",
              "      <td>04:01:01</td>\n",
              "    </tr>\n",
              "  </tbody>\n",
              "</table>\n",
              "</div>\n",
              "      <button class=\"colab-df-convert\" onclick=\"convertToInteractive('df-7294b4d5-87d7-4a35-a201-256805273ae1')\"\n",
              "              title=\"Convert this dataframe to an interactive table.\"\n",
              "              style=\"display:none;\">\n",
              "        \n",
              "  <svg xmlns=\"http://www.w3.org/2000/svg\" height=\"24px\"viewBox=\"0 0 24 24\"\n",
              "       width=\"24px\">\n",
              "    <path d=\"M0 0h24v24H0V0z\" fill=\"none\"/>\n",
              "    <path d=\"M18.56 5.44l.94 2.06.94-2.06 2.06-.94-2.06-.94-.94-2.06-.94 2.06-2.06.94zm-11 1L8.5 8.5l.94-2.06 2.06-.94-2.06-.94L8.5 2.5l-.94 2.06-2.06.94zm10 10l.94 2.06.94-2.06 2.06-.94-2.06-.94-.94-2.06-.94 2.06-2.06.94z\"/><path d=\"M17.41 7.96l-1.37-1.37c-.4-.4-.92-.59-1.43-.59-.52 0-1.04.2-1.43.59L10.3 9.45l-7.72 7.72c-.78.78-.78 2.05 0 2.83L4 21.41c.39.39.9.59 1.41.59.51 0 1.02-.2 1.41-.59l7.78-7.78 2.81-2.81c.8-.78.8-2.07 0-2.86zM5.41 20L4 18.59l7.72-7.72 1.47 1.35L5.41 20z\"/>\n",
              "  </svg>\n",
              "      </button>\n",
              "      \n",
              "  <style>\n",
              "    .colab-df-container {\n",
              "      display:flex;\n",
              "      flex-wrap:wrap;\n",
              "      gap: 12px;\n",
              "    }\n",
              "\n",
              "    .colab-df-convert {\n",
              "      background-color: #E8F0FE;\n",
              "      border: none;\n",
              "      border-radius: 50%;\n",
              "      cursor: pointer;\n",
              "      display: none;\n",
              "      fill: #1967D2;\n",
              "      height: 32px;\n",
              "      padding: 0 0 0 0;\n",
              "      width: 32px;\n",
              "    }\n",
              "\n",
              "    .colab-df-convert:hover {\n",
              "      background-color: #E2EBFA;\n",
              "      box-shadow: 0px 1px 2px rgba(60, 64, 67, 0.3), 0px 1px 3px 1px rgba(60, 64, 67, 0.15);\n",
              "      fill: #174EA6;\n",
              "    }\n",
              "\n",
              "    [theme=dark] .colab-df-convert {\n",
              "      background-color: #3B4455;\n",
              "      fill: #D2E3FC;\n",
              "    }\n",
              "\n",
              "    [theme=dark] .colab-df-convert:hover {\n",
              "      background-color: #434B5C;\n",
              "      box-shadow: 0px 1px 3px 1px rgba(0, 0, 0, 0.15);\n",
              "      filter: drop-shadow(0px 1px 2px rgba(0, 0, 0, 0.3));\n",
              "      fill: #FFFFFF;\n",
              "    }\n",
              "  </style>\n",
              "\n",
              "      <script>\n",
              "        const buttonEl =\n",
              "          document.querySelector('#df-7294b4d5-87d7-4a35-a201-256805273ae1 button.colab-df-convert');\n",
              "        buttonEl.style.display =\n",
              "          google.colab.kernel.accessAllowed ? 'block' : 'none';\n",
              "\n",
              "        async function convertToInteractive(key) {\n",
              "          const element = document.querySelector('#df-7294b4d5-87d7-4a35-a201-256805273ae1');\n",
              "          const dataTable =\n",
              "            await google.colab.kernel.invokeFunction('convertToInteractive',\n",
              "                                                     [key], {});\n",
              "          if (!dataTable) return;\n",
              "\n",
              "          const docLinkHtml = 'Like what you see? Visit the ' +\n",
              "            '<a target=\"_blank\" href=https://colab.research.google.com/notebooks/data_table.ipynb>data table notebook</a>'\n",
              "            + ' to learn more about interactive tables.';\n",
              "          element.innerHTML = '';\n",
              "          dataTable['output_type'] = 'display_data';\n",
              "          await google.colab.output.renderOutput(dataTable, element);\n",
              "          const docLink = document.createElement('div');\n",
              "          docLink.innerHTML = docLinkHtml;\n",
              "          element.appendChild(docLink);\n",
              "        }\n",
              "      </script>\n",
              "    </div>\n",
              "  </div>\n",
              "  "
            ]
          },
          "metadata": {},
          "execution_count": 53
        }
      ]
    },
    {
      "cell_type": "code",
      "execution_count": 4,
      "id": "2304ea8b",
      "metadata": {
        "id": "2304ea8b"
      },
      "outputs": [],
      "source": [
        "donorHLAset = set() #creating an empty set to store donor HLA values\n",
        "# The idea of using a set is intuitive, because it will help in optimized search\n",
        "# In python, sets are hashsets (of JAVA) and the values can be easily compared and searched"
      ]
    },
    {
      "cell_type": "code",
      "execution_count": 7,
      "id": "7d25fe2d",
      "metadata": {
        "colab": {
          "base_uri": "https://localhost:8080/"
        },
        "id": "7d25fe2d",
        "outputId": "59d2da60-28a7-4596-fd80-a75c550ef516"
      },
      "outputs": [
        {
          "output_type": "execute_result",
          "data": {
            "text/plain": [
              "['A', 'B', 'C', 'DRB1', 'DQB1', 'DPB1']"
            ]
          },
          "metadata": {},
          "execution_count": 7
        }
      ],
      "source": [
        "#storing columns names in a list to create 'HLA types'\n",
        "column_names = donor_df.columns.values.tolist()\n",
        "column_names"
      ]
    },
    {
      "cell_type": "markdown",
      "source": [
        "##### ASSUMPTION: \n",
        "- we take for granted that first five characters of the string in DONOR TABLE will be used\n",
        "- for example, if the associated row value for column A is '32:01:01', we will only extract '32:01' and concatenate it to base A. \n",
        "- This assumption is based on the depth of recipient SAB values. In the limited case we are provided in the first phase of the project, we will take this assumption to be the case, and follow along. \n",
        "- We are going to generalize and change the code to incorporate changes if we need a HLA value of more depth"
      ],
      "metadata": {
        "id": "1xBPi9ocCXI8"
      },
      "id": "1xBPi9ocCXI8"
    },
    {
      "cell_type": "code",
      "execution_count": 8,
      "id": "36c1df8d",
      "metadata": {
        "id": "36c1df8d"
      },
      "outputs": [],
      "source": [
        "#function to create HLA out of base gene and associated allelle values\n",
        "#It is dependent on the assumption we made earlier. \n",
        "\n",
        "def formatHLA(data,column):\n",
        "    return column + '*' + data[0:5] "
      ]
    },
    {
      "cell_type": "code",
      "execution_count": 9,
      "id": "b7b04638",
      "metadata": {
        "scrolled": true,
        "colab": {
          "base_uri": "https://localhost:8080/"
        },
        "id": "b7b04638",
        "outputId": "34bdf1e5-c97b-41c1-c8c8-c674fce7a575"
      },
      "outputs": [
        {
          "output_type": "execute_result",
          "data": {
            "text/plain": [
              "{'A*32:01',\n",
              " 'A*68:01',\n",
              " 'B*35:03',\n",
              " 'B*57:01',\n",
              " 'C*06:02',\n",
              " 'C*12:03',\n",
              " 'DPB1*02:01',\n",
              " 'DPB1*04:01',\n",
              " 'DQB1*03:01',\n",
              " 'DQB1*06:03',\n",
              " 'DRB1*11:01',\n",
              " 'DRB1*13:01'}"
            ]
          },
          "metadata": {},
          "execution_count": 9
        }
      ],
      "source": [
        "#filling the set of donor HLA values\n",
        "\n",
        "for column in column_names:\n",
        "    for data in donor_df[column]:\n",
        "        donorHLAset.add(formatHLA(data,column))\n",
        "donorHLAset"
      ]
    },
    {
      "cell_type": "markdown",
      "source": [
        "##### ASSUMPTION 2\n",
        "- In the PHASE 1 of project, we take for granted that the documents provided to us are in csv formate. We In subsequent phases, \n",
        "  - we will deal with readable pdf files\n",
        "  - we will deal flattened Pdf files \n",
        "  - we will build an API which will be able to take in the file and output the data\n",
        "  - we will build a database of recipient HLA values, and an app/webApp which will take in donor'a HLA values and output the potential names of negatively cross-matched recipients"
      ],
      "metadata": {
        "id": "fqVnXpSFEU2R"
      },
      "id": "fqVnXpSFEU2R"
    },
    {
      "cell_type": "code",
      "execution_count": 5,
      "id": "52d8f972",
      "metadata": {
        "scrolled": true,
        "id": "52d8f972"
      },
      "outputs": [],
      "source": [
        "recipient = pd.read_csv('https://raw.githubusercontent.com/rahultheogre/datasets/main/AH-RR/Recipient%20Class%201%20SAB.csv',header=None)"
      ]
    },
    {
      "cell_type": "code",
      "source": [
        "recipient"
      ],
      "metadata": {
        "colab": {
          "base_uri": "https://localhost:8080/",
          "height": 802
        },
        "id": "AihGLDlQp57T",
        "outputId": "d900df44-d49c-4569-8a5c-4e4d6a0899b6"
      },
      "id": "AihGLDlQp57T",
      "execution_count": 6,
      "outputs": [
        {
          "output_type": "execute_result",
          "data": {
            "text/plain": [
              "                                                    0             1\n",
              "0   Antibodies detected against HLA Class I antige...           NaN\n",
              "1                                 Allele Specificity            MFI\n",
              "2                                             B*48:01        11,421\n",
              "3                                             C*03:03         9,079\n",
              "4                                             B*52:01         8,983\n",
              "5                                             C*03:04         7,360\n",
              "6                                                 NaN           NaN\n",
              "7   Antibodies detected against HLA Class I antige...           NaN\n",
              "8                                 Allele Specificity            MFI\n",
              "9                                             B*73:01           889\n",
              "10                                            B*15:01           873\n",
              "11                                            C*15:02           747\n",
              "12                                            C*06:02           144\n",
              "13                                            C*05:01           127\n",
              "14                                            A*11:02           454\n",
              "15                                            B*51:02           357\n",
              "16                                            A*33:03            94\n",
              "17                                            A*43:01            98\n",
              "18                                            A*32:01            91\n",
              "19                                            B*15:16            49\n",
              "20                                            A*68:01            39\n",
              "21                                            A*80:01  Not Detected\n",
              "22                                            A*11:01  Not Detected\n",
              "23                                            B*57:01  Not Detected"
            ],
            "text/html": [
              "\n",
              "  <div id=\"df-8274e3be-8a99-4a6e-abd7-3e61848a5f1d\">\n",
              "    <div class=\"colab-df-container\">\n",
              "      <div>\n",
              "<style scoped>\n",
              "    .dataframe tbody tr th:only-of-type {\n",
              "        vertical-align: middle;\n",
              "    }\n",
              "\n",
              "    .dataframe tbody tr th {\n",
              "        vertical-align: top;\n",
              "    }\n",
              "\n",
              "    .dataframe thead th {\n",
              "        text-align: right;\n",
              "    }\n",
              "</style>\n",
              "<table border=\"1\" class=\"dataframe\">\n",
              "  <thead>\n",
              "    <tr style=\"text-align: right;\">\n",
              "      <th></th>\n",
              "      <th>0</th>\n",
              "      <th>1</th>\n",
              "    </tr>\n",
              "  </thead>\n",
              "  <tbody>\n",
              "    <tr>\n",
              "      <th>0</th>\n",
              "      <td>Antibodies detected against HLA Class I antige...</td>\n",
              "      <td>NaN</td>\n",
              "    </tr>\n",
              "    <tr>\n",
              "      <th>1</th>\n",
              "      <td>Allele Specificity</td>\n",
              "      <td>MFI</td>\n",
              "    </tr>\n",
              "    <tr>\n",
              "      <th>2</th>\n",
              "      <td>B*48:01</td>\n",
              "      <td>11,421</td>\n",
              "    </tr>\n",
              "    <tr>\n",
              "      <th>3</th>\n",
              "      <td>C*03:03</td>\n",
              "      <td>9,079</td>\n",
              "    </tr>\n",
              "    <tr>\n",
              "      <th>4</th>\n",
              "      <td>B*52:01</td>\n",
              "      <td>8,983</td>\n",
              "    </tr>\n",
              "    <tr>\n",
              "      <th>5</th>\n",
              "      <td>C*03:04</td>\n",
              "      <td>7,360</td>\n",
              "    </tr>\n",
              "    <tr>\n",
              "      <th>6</th>\n",
              "      <td>NaN</td>\n",
              "      <td>NaN</td>\n",
              "    </tr>\n",
              "    <tr>\n",
              "      <th>7</th>\n",
              "      <td>Antibodies detected against HLA Class I antige...</td>\n",
              "      <td>NaN</td>\n",
              "    </tr>\n",
              "    <tr>\n",
              "      <th>8</th>\n",
              "      <td>Allele Specificity</td>\n",
              "      <td>MFI</td>\n",
              "    </tr>\n",
              "    <tr>\n",
              "      <th>9</th>\n",
              "      <td>B*73:01</td>\n",
              "      <td>889</td>\n",
              "    </tr>\n",
              "    <tr>\n",
              "      <th>10</th>\n",
              "      <td>B*15:01</td>\n",
              "      <td>873</td>\n",
              "    </tr>\n",
              "    <tr>\n",
              "      <th>11</th>\n",
              "      <td>C*15:02</td>\n",
              "      <td>747</td>\n",
              "    </tr>\n",
              "    <tr>\n",
              "      <th>12</th>\n",
              "      <td>C*06:02</td>\n",
              "      <td>144</td>\n",
              "    </tr>\n",
              "    <tr>\n",
              "      <th>13</th>\n",
              "      <td>C*05:01</td>\n",
              "      <td>127</td>\n",
              "    </tr>\n",
              "    <tr>\n",
              "      <th>14</th>\n",
              "      <td>A*11:02</td>\n",
              "      <td>454</td>\n",
              "    </tr>\n",
              "    <tr>\n",
              "      <th>15</th>\n",
              "      <td>B*51:02</td>\n",
              "      <td>357</td>\n",
              "    </tr>\n",
              "    <tr>\n",
              "      <th>16</th>\n",
              "      <td>A*33:03</td>\n",
              "      <td>94</td>\n",
              "    </tr>\n",
              "    <tr>\n",
              "      <th>17</th>\n",
              "      <td>A*43:01</td>\n",
              "      <td>98</td>\n",
              "    </tr>\n",
              "    <tr>\n",
              "      <th>18</th>\n",
              "      <td>A*32:01</td>\n",
              "      <td>91</td>\n",
              "    </tr>\n",
              "    <tr>\n",
              "      <th>19</th>\n",
              "      <td>B*15:16</td>\n",
              "      <td>49</td>\n",
              "    </tr>\n",
              "    <tr>\n",
              "      <th>20</th>\n",
              "      <td>A*68:01</td>\n",
              "      <td>39</td>\n",
              "    </tr>\n",
              "    <tr>\n",
              "      <th>21</th>\n",
              "      <td>A*80:01</td>\n",
              "      <td>Not Detected</td>\n",
              "    </tr>\n",
              "    <tr>\n",
              "      <th>22</th>\n",
              "      <td>A*11:01</td>\n",
              "      <td>Not Detected</td>\n",
              "    </tr>\n",
              "    <tr>\n",
              "      <th>23</th>\n",
              "      <td>B*57:01</td>\n",
              "      <td>Not Detected</td>\n",
              "    </tr>\n",
              "  </tbody>\n",
              "</table>\n",
              "</div>\n",
              "      <button class=\"colab-df-convert\" onclick=\"convertToInteractive('df-8274e3be-8a99-4a6e-abd7-3e61848a5f1d')\"\n",
              "              title=\"Convert this dataframe to an interactive table.\"\n",
              "              style=\"display:none;\">\n",
              "        \n",
              "  <svg xmlns=\"http://www.w3.org/2000/svg\" height=\"24px\"viewBox=\"0 0 24 24\"\n",
              "       width=\"24px\">\n",
              "    <path d=\"M0 0h24v24H0V0z\" fill=\"none\"/>\n",
              "    <path d=\"M18.56 5.44l.94 2.06.94-2.06 2.06-.94-2.06-.94-.94-2.06-.94 2.06-2.06.94zm-11 1L8.5 8.5l.94-2.06 2.06-.94-2.06-.94L8.5 2.5l-.94 2.06-2.06.94zm10 10l.94 2.06.94-2.06 2.06-.94-2.06-.94-.94-2.06-.94 2.06-2.06.94z\"/><path d=\"M17.41 7.96l-1.37-1.37c-.4-.4-.92-.59-1.43-.59-.52 0-1.04.2-1.43.59L10.3 9.45l-7.72 7.72c-.78.78-.78 2.05 0 2.83L4 21.41c.39.39.9.59 1.41.59.51 0 1.02-.2 1.41-.59l7.78-7.78 2.81-2.81c.8-.78.8-2.07 0-2.86zM5.41 20L4 18.59l7.72-7.72 1.47 1.35L5.41 20z\"/>\n",
              "  </svg>\n",
              "      </button>\n",
              "      \n",
              "  <style>\n",
              "    .colab-df-container {\n",
              "      display:flex;\n",
              "      flex-wrap:wrap;\n",
              "      gap: 12px;\n",
              "    }\n",
              "\n",
              "    .colab-df-convert {\n",
              "      background-color: #E8F0FE;\n",
              "      border: none;\n",
              "      border-radius: 50%;\n",
              "      cursor: pointer;\n",
              "      display: none;\n",
              "      fill: #1967D2;\n",
              "      height: 32px;\n",
              "      padding: 0 0 0 0;\n",
              "      width: 32px;\n",
              "    }\n",
              "\n",
              "    .colab-df-convert:hover {\n",
              "      background-color: #E2EBFA;\n",
              "      box-shadow: 0px 1px 2px rgba(60, 64, 67, 0.3), 0px 1px 3px 1px rgba(60, 64, 67, 0.15);\n",
              "      fill: #174EA6;\n",
              "    }\n",
              "\n",
              "    [theme=dark] .colab-df-convert {\n",
              "      background-color: #3B4455;\n",
              "      fill: #D2E3FC;\n",
              "    }\n",
              "\n",
              "    [theme=dark] .colab-df-convert:hover {\n",
              "      background-color: #434B5C;\n",
              "      box-shadow: 0px 1px 3px 1px rgba(0, 0, 0, 0.15);\n",
              "      filter: drop-shadow(0px 1px 2px rgba(0, 0, 0, 0.3));\n",
              "      fill: #FFFFFF;\n",
              "    }\n",
              "  </style>\n",
              "\n",
              "      <script>\n",
              "        const buttonEl =\n",
              "          document.querySelector('#df-8274e3be-8a99-4a6e-abd7-3e61848a5f1d button.colab-df-convert');\n",
              "        buttonEl.style.display =\n",
              "          google.colab.kernel.accessAllowed ? 'block' : 'none';\n",
              "\n",
              "        async function convertToInteractive(key) {\n",
              "          const element = document.querySelector('#df-8274e3be-8a99-4a6e-abd7-3e61848a5f1d');\n",
              "          const dataTable =\n",
              "            await google.colab.kernel.invokeFunction('convertToInteractive',\n",
              "                                                     [key], {});\n",
              "          if (!dataTable) return;\n",
              "\n",
              "          const docLinkHtml = 'Like what you see? Visit the ' +\n",
              "            '<a target=\"_blank\" href=https://colab.research.google.com/notebooks/data_table.ipynb>data table notebook</a>'\n",
              "            + ' to learn more about interactive tables.';\n",
              "          element.innerHTML = '';\n",
              "          dataTable['output_type'] = 'display_data';\n",
              "          await google.colab.output.renderOutput(dataTable, element);\n",
              "          const docLink = document.createElement('div');\n",
              "          docLink.innerHTML = docLinkHtml;\n",
              "          element.appendChild(docLink);\n",
              "        }\n",
              "      </script>\n",
              "    </div>\n",
              "  </div>\n",
              "  "
            ]
          },
          "metadata": {},
          "execution_count": 6
        }
      ]
    },
    {
      "cell_type": "code",
      "source": [
        "#First we remove all the tuples/rows where MFI for corresponding Allele Specificity is 'Not Detected' and also those \n",
        "# which have NaN or 'MFI' as values. Dropping 'Not Detected' rows is important because SAB - 2 values, they form major part \n",
        "# of the data."
      ],
      "metadata": {
        "id": "flspNJ3ZRBZu"
      },
      "id": "flspNJ3ZRBZu",
      "execution_count": 59,
      "outputs": []
    },
    {
      "cell_type": "code",
      "source": [
        "recipient = recipient[recipient[1] != 'Not Detected']"
      ],
      "metadata": {
        "id": "yyT7O5eHc6TZ"
      },
      "id": "yyT7O5eHc6TZ",
      "execution_count": 10,
      "outputs": []
    },
    {
      "cell_type": "code",
      "execution_count": 11,
      "id": "f0ed2a39",
      "metadata": {
        "id": "f0ed2a39"
      },
      "outputs": [],
      "source": [
        "result_list = []"
      ]
    },
    {
      "cell_type": "code",
      "execution_count": 12,
      "id": "9228cf7f",
      "metadata": {
        "id": "9228cf7f"
      },
      "outputs": [],
      "source": [
        "for row_num in range(0,len(recipient[1])):\n",
        "    allele_specifity =  recipient[0][row_num]\n",
        "    MFI = recipient[1][row_num]\n",
        "    if allele_specifity in donorHLAset:\n",
        "        result_list.append((allele_specifity,MFI))"
      ]
    },
    {
      "cell_type": "code",
      "source": [
        "print(\"The undesirable Donor Specific Antibodies and corresponding MFI values are: \")\n",
        "for i in result_list:\n",
        "  print(i)"
      ],
      "metadata": {
        "colab": {
          "base_uri": "https://localhost:8080/"
        },
        "id": "9tsP6DO9odE3",
        "outputId": "5f069fbb-ce70-46c0-d2fc-1f1d1435c3de"
      },
      "id": "9tsP6DO9odE3",
      "execution_count": 13,
      "outputs": [
        {
          "output_type": "stream",
          "name": "stdout",
          "text": [
            "The undesirable Donor Specific Antibodies and corresponding MFI values are: \n",
            "('C*06:02', '144')\n",
            "('A*32:01', '91')\n",
            "('A*68:01', '39')\n"
          ]
        }
      ]
    }
  ],
  "metadata": {
    "kernelspec": {
      "display_name": "Python 3 (ipykernel)",
      "language": "python",
      "name": "python3"
    },
    "language_info": {
      "codemirror_mode": {
        "name": "ipython",
        "version": 3
      },
      "file_extension": ".py",
      "mimetype": "text/x-python",
      "name": "python",
      "nbconvert_exporter": "python",
      "pygments_lexer": "ipython3",
      "version": "3.9.7"
    },
    "colab": {
      "name": "HLA Matching - PHASE 1.ipynb",
      "provenance": [],
      "include_colab_link": true
    }
  },
  "nbformat": 4,
  "nbformat_minor": 5
}